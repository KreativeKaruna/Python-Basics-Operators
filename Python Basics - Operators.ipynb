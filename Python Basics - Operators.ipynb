{
 "cells": [
  {
   "cell_type": "markdown",
   "id": "552bb8a2",
   "metadata": {},
   "source": [
    "## Python Operators"
   ]
  },
  {
   "cell_type": "markdown",
   "id": "3f4632de",
   "metadata": {},
   "source": [
    "1. Arithematic Operators\n",
    "2. assignment Operator\n",
    "3. Comparision Operator\n",
    "4. Logical Operators\n",
    "5. Membership Operators"
   ]
  },
  {
   "cell_type": "code",
   "execution_count": 1,
   "id": "9f09f7ff",
   "metadata": {},
   "outputs": [],
   "source": [
    "#  Arithematic Operators\n",
    "x = 17\n",
    "y = 7"
   ]
  },
  {
   "cell_type": "code",
   "execution_count": 2,
   "id": "02b829df",
   "metadata": {},
   "outputs": [
    {
     "name": "stdout",
     "output_type": "stream",
     "text": [
      "24\n"
     ]
    }
   ],
   "source": [
    "print(x+y)"
   ]
  },
  {
   "cell_type": "code",
   "execution_count": 3,
   "id": "6ec7938c",
   "metadata": {},
   "outputs": [
    {
     "name": "stdout",
     "output_type": "stream",
     "text": [
      "10\n"
     ]
    }
   ],
   "source": [
    "print(x-y)"
   ]
  },
  {
   "cell_type": "code",
   "execution_count": 4,
   "id": "5a6a5ecf",
   "metadata": {},
   "outputs": [
    {
     "name": "stdout",
     "output_type": "stream",
     "text": [
      "119\n"
     ]
    }
   ],
   "source": [
    "print(x*y)  # Multiplication"
   ]
  },
  {
   "cell_type": "code",
   "execution_count": 5,
   "id": "7c35a4e9",
   "metadata": {},
   "outputs": [
    {
     "name": "stdout",
     "output_type": "stream",
     "text": [
      "2.4285714285714284\n"
     ]
    }
   ],
   "source": [
    "print(x/y)  # Division, output will be float datatype"
   ]
  },
  {
   "cell_type": "code",
   "execution_count": 6,
   "id": "784dbea8",
   "metadata": {},
   "outputs": [
    {
     "name": "stdout",
     "output_type": "stream",
     "text": [
      "3\n"
     ]
    }
   ],
   "source": [
    "# Modulus, Remainder will be the output\n",
    "print(x % y)"
   ]
  },
  {
   "cell_type": "code",
   "execution_count": 7,
   "id": "8e0c8c7b",
   "metadata": {},
   "outputs": [
    {
     "name": "stdout",
     "output_type": "stream",
     "text": [
      "2\n"
     ]
    }
   ],
   "source": [
    "# Floor division, quotient will be the output\n",
    "print(x//y)"
   ]
  },
  {
   "cell_type": "code",
   "execution_count": 8,
   "id": "7ec23135",
   "metadata": {},
   "outputs": [
    {
     "name": "stdout",
     "output_type": "stream",
     "text": [
      "410338673\n"
     ]
    }
   ],
   "source": [
    "# Exponentiation, to the power of, here 17 to the power of 7\n",
    "print(x ** y)"
   ]
  },
  {
   "cell_type": "code",
   "execution_count": 9,
   "id": "64bea821",
   "metadata": {},
   "outputs": [],
   "source": [
    "# Assignment Operator, '=' is an Assignment operator, it is used to assign a value to a variable\n",
    "x = 17"
   ]
  },
  {
   "cell_type": "code",
   "execution_count": null,
   "id": "adfc4301",
   "metadata": {},
   "outputs": [],
   "source": [
    "# Comparision Operators\n",
    "here output will be always in Boolean format"
   ]
  },
  {
   "cell_type": "code",
   "execution_count": 11,
   "id": "ad2f123f",
   "metadata": {},
   "outputs": [
    {
     "name": "stdout",
     "output_type": "stream",
     "text": [
      "True\n"
     ]
    }
   ],
   "source": [
    "print(x>y)"
   ]
  },
  {
   "cell_type": "code",
   "execution_count": 12,
   "id": "ce2fdd19",
   "metadata": {},
   "outputs": [
    {
     "name": "stdout",
     "output_type": "stream",
     "text": [
      "False\n"
     ]
    }
   ],
   "source": [
    "print(x<y)"
   ]
  },
  {
   "cell_type": "code",
   "execution_count": 13,
   "id": "8708b1c2",
   "metadata": {},
   "outputs": [
    {
     "name": "stdout",
     "output_type": "stream",
     "text": [
      "False\n"
     ]
    }
   ],
   "source": [
    "print(x==y)  # \"==\" is equality for comparision ; \"=\" is for assignment."
   ]
  },
  {
   "cell_type": "code",
   "execution_count": 14,
   "id": "ef29bbf4",
   "metadata": {},
   "outputs": [
    {
     "name": "stdout",
     "output_type": "stream",
     "text": [
      "False\n"
     ]
    }
   ],
   "source": [
    "print(x>29)"
   ]
  },
  {
   "cell_type": "code",
   "execution_count": 15,
   "id": "1ee9ea97",
   "metadata": {},
   "outputs": [
    {
     "name": "stdout",
     "output_type": "stream",
     "text": [
      "True\n"
     ]
    }
   ],
   "source": [
    "print(x!=32)  # not equal to"
   ]
  },
  {
   "cell_type": "code",
   "execution_count": null,
   "id": "ef1d180a",
   "metadata": {},
   "outputs": [],
   "source": [
    "# Logical Operators\n",
    "# and or not"
   ]
  },
  {
   "cell_type": "code",
   "execution_count": 16,
   "id": "5e84d07a",
   "metadata": {},
   "outputs": [
    {
     "name": "stdout",
     "output_type": "stream",
     "text": [
      "False\n"
     ]
    }
   ],
   "source": [
    "# and operator, both the conditional statement should be True, then only output will be true\n",
    "print((x>27 and y>5)) # false and true = false"
   ]
  },
  {
   "cell_type": "code",
   "execution_count": 17,
   "id": "60783f28",
   "metadata": {},
   "outputs": [
    {
     "name": "stdout",
     "output_type": "stream",
     "text": [
      "True\n"
     ]
    }
   ],
   "source": [
    "print((x<27 and y>5)) # true and true = true"
   ]
  },
  {
   "cell_type": "code",
   "execution_count": 18,
   "id": "dd1ff262",
   "metadata": {},
   "outputs": [
    {
     "name": "stdout",
     "output_type": "stream",
     "text": [
      "False\n"
     ]
    }
   ],
   "source": [
    "print((x==19 and y!=7)) # falsre and false = false"
   ]
  },
  {
   "cell_type": "code",
   "execution_count": 19,
   "id": "6a3cbbbd",
   "metadata": {},
   "outputs": [
    {
     "name": "stdout",
     "output_type": "stream",
     "text": [
      "True\n"
     ]
    }
   ],
   "source": [
    "print((x>15 and y!=5))  # true and true = true"
   ]
  },
  {
   "cell_type": "code",
   "execution_count": 20,
   "id": "3fb350cc",
   "metadata": {},
   "outputs": [
    {
     "name": "stdout",
     "output_type": "stream",
     "text": [
      "True\n"
     ]
    }
   ],
   "source": [
    "# or Operator , any one condition is true, output will be true\n",
    "print((x>y or x!=17)) # true or false = true"
   ]
  },
  {
   "cell_type": "code",
   "execution_count": 21,
   "id": "c11448c1",
   "metadata": {},
   "outputs": [
    {
     "name": "stdout",
     "output_type": "stream",
     "text": [
      "True\n"
     ]
    }
   ],
   "source": [
    "print((x>12 or y>>2)) # true or true = true"
   ]
  },
  {
   "cell_type": "code",
   "execution_count": 22,
   "id": "d1737ec3",
   "metadata": {},
   "outputs": [
    {
     "name": "stdout",
     "output_type": "stream",
     "text": [
      "False\n"
     ]
    }
   ],
   "source": [
    "print((17>x or 23<y)) # false or false = false"
   ]
  },
  {
   "cell_type": "code",
   "execution_count": 23,
   "id": "08efdd4f",
   "metadata": {},
   "outputs": [
    {
     "name": "stdout",
     "output_type": "stream",
     "text": [
      "True\n"
     ]
    }
   ],
   "source": [
    "# not operator , reverse of the result\n",
    "print(not(17>x or 23<y))"
   ]
  },
  {
   "cell_type": "code",
   "execution_count": 24,
   "id": "11e10c1c",
   "metadata": {},
   "outputs": [
    {
     "name": "stdout",
     "output_type": "stream",
     "text": [
      "False\n"
     ]
    }
   ],
   "source": [
    "print(not(x<27 and y>5))"
   ]
  },
  {
   "cell_type": "code",
   "execution_count": 25,
   "id": "e8c3e129",
   "metadata": {},
   "outputs": [],
   "source": [
    "# Membership Operators : checking if a value is present in the given set of values , output will be in Boolean Format\n",
    "y = [2,3,4,5,6,7]"
   ]
  },
  {
   "cell_type": "code",
   "execution_count": 26,
   "id": "dfd3a179",
   "metadata": {},
   "outputs": [
    {
     "name": "stdout",
     "output_type": "stream",
     "text": [
      "False\n"
     ]
    }
   ],
   "source": [
    "print(x in y)"
   ]
  },
  {
   "cell_type": "code",
   "execution_count": 27,
   "id": "66461c3b",
   "metadata": {},
   "outputs": [
    {
     "name": "stdout",
     "output_type": "stream",
     "text": [
      "True\n"
     ]
    }
   ],
   "source": [
    "print(2 in y)"
   ]
  },
  {
   "cell_type": "code",
   "execution_count": 28,
   "id": "d1a707da",
   "metadata": {},
   "outputs": [
    {
     "name": "stdout",
     "output_type": "stream",
     "text": [
      "True\n"
     ]
    }
   ],
   "source": [
    "print(9 not in y)"
   ]
  }
 ],
 "metadata": {
  "kernelspec": {
   "display_name": "Python 3",
   "language": "python",
   "name": "python3"
  },
  "language_info": {
   "codemirror_mode": {
    "name": "ipython",
    "version": 3
   },
   "file_extension": ".py",
   "mimetype": "text/x-python",
   "name": "python",
   "nbconvert_exporter": "python",
   "pygments_lexer": "ipython3",
   "version": "3.8.5"
  }
 },
 "nbformat": 4,
 "nbformat_minor": 5
}
